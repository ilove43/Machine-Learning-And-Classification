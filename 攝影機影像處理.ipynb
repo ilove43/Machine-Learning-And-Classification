{
 "cells": [
  {
   "cell_type": "code",
   "execution_count": 3,
   "id": "6eb64689-4671-4157-a523-54d91a80562b",
   "metadata": {},
   "outputs": [],
   "source": [
    "import cv2\n",
    "import time\n",
    "from datetime import datetime"
   ]
  },
  {
   "cell_type": "code",
   "execution_count": 5,
   "id": "ea3d95e5-6f00-411a-8d1e-9ba01a1c48af",
   "metadata": {},
   "outputs": [],
   "source": [
    "# 打開攝影機\n",
    "cap = cv2.VideoCapture(0)\n",
    "\n",
    "# 設定解析度\n",
    "cap.set(cv2.CAP_PROP_FRAME_WIDTH, 640)\n",
    "cap.set(cv2.CAP_PROP_FRAME_HEIGHT, 480)\n",
    "\n",
    "# 設定影片寫入器\n",
    "fourcc = cv2.VideoWriter_fourcc(*'mp4v')\n",
    "out = cv2.VideoWriter('output.mp4', fourcc, 20.0, (640, 480))\n",
    "\n",
    "# 計算 FPS 初始化\n",
    "prev_time = time.time()\n",
    "\n",
    "while True:\n",
    "    ret, frame = cap.read()\n",
    "    if not ret:\n",
    "        print(\"無法讀取攝影機\")\n",
    "        break\n",
    "\n",
    "    # 計算 FPS\n",
    "    curr_time = time.time()\n",
    "    fps = 1 / (curr_time - prev_time)\n",
    "    prev_time = curr_time\n",
    "\n",
    "    # 左上角加 FPS\n",
    "    cv2.putText(frame, f'FPS={fps:.2f}', (10, 30),\n",
    "                cv2.FONT_HERSHEY_SIMPLEX, 0.8, (0, 255, 0), 2)\n",
    "\n",
    "    # 右上角加時間\n",
    "    now = datetime.now().strftime('%Y/%m/%d %H:%M:%S')\n",
    "    cv2.putText(frame, now, (350, 30),\n",
    "                cv2.FONT_HERSHEY_SIMPLEX, 0.7, (0, 255, 255), 2)\n",
    "\n",
    "    # 右上角時間下面加學號\n",
    "    cv2.putText(frame, 'number: 611406007', (350, 60),\n",
    "                cv2.FONT_HERSHEY_SIMPLEX, 0.7, (0, 255, 255), 2)\n",
    "\n",
    "    # 顯示影像\n",
    "    cv2.imshow('Camera', frame)\n",
    "\n",
    "    # 寫入影片\n",
    "    out.write(frame)\n",
    "\n",
    "    # 按 q 鍵退出\n",
    "    if cv2.waitKey(1) & 0xFF == ord('q'):\n",
    "        break\n",
    "\n",
    "# 釋放資源\n",
    "cap.release()\n",
    "out.release()\n",
    "cv2.destroyAllWindows()\n"
   ]
  },
  {
   "cell_type": "code",
   "execution_count": null,
   "id": "17ae649b-a7fd-4c22-849c-85b6336d3b22",
   "metadata": {},
   "outputs": [],
   "source": []
  }
 ],
 "metadata": {
  "kernelspec": {
   "display_name": "Python 3 (ipykernel)",
   "language": "python",
   "name": "python3"
  },
  "language_info": {
   "codemirror_mode": {
    "name": "ipython",
    "version": 3
   },
   "file_extension": ".py",
   "mimetype": "text/x-python",
   "name": "python",
   "nbconvert_exporter": "python",
   "pygments_lexer": "ipython3",
   "version": "3.13.5"
  }
 },
 "nbformat": 4,
 "nbformat_minor": 5
}
